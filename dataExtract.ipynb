{
 "cells": [
  {
   "cell_type": "code",
   "execution_count": 33,
   "metadata": {},
   "outputs": [],
   "source": [
    "import os\n",
    "import subprocess\n",
    "from subprocess import PIPE\n",
    "from selenium import webdriver\n",
    "from selenium.webdriver.chrome.service import Service\n",
    "from selenium.webdriver.common.by import By\n",
    "from selenium.webdriver.common.keys import Keys\n",
    "from selenium.webdriver.support.ui import WebDriverWait\n",
    "from selenium.webdriver.support import expected_conditions as EC\n",
    "import time\n",
    "import requests\n",
    "import json"
   ]
  },
  {
   "cell_type": "code",
   "execution_count": 36,
   "metadata": {},
   "outputs": [],
   "source": [
    "from datetime import datetime\n"
   ]
  },
  {
   "cell_type": "code",
   "execution_count": 34,
   "metadata": {},
   "outputs": [],
   "source": [
    "driver = webdriver.Chrome()"
   ]
  },
  {
   "cell_type": "code",
   "execution_count": 35,
   "metadata": {},
   "outputs": [
    {
     "data": {
      "text/plain": [
       "55"
      ]
     },
     "execution_count": 35,
     "metadata": {},
     "output_type": "execute_result"
    }
   ],
   "source": [
    "temp = json.load(open('myfile.json','r'))\n",
    "len(temp)"
   ]
  },
  {
   "cell_type": "code",
   "execution_count": 41,
   "metadata": {},
   "outputs": [],
   "source": [
    "err = []\n",
    "def get_details(link,tp):     \n",
    "    try:\n",
    "        driver.get(link)\n",
    "        title = driver.find_element(by=By.ID,value=\"productTitle\").text\n",
    "        img = driver.find_element(by=By.CLASS_NAME,value=\"a-stretch-vertical\").get_attribute(\"src\")\n",
    "        cost = driver.find_element(by=By.CLASS_NAME,value=\"priceToPay\").text\n",
    "        WebDriverWait(driver,5).until(\n",
    "            EC.presence_of_all_elements_located((By.CLASS_NAME,\"a-stretch-vertical\"))\n",
    "        )\n",
    "        return {\n",
    "            \"link\":link,\n",
    "            \"title\":title,\n",
    "            \"img\":img,\n",
    "            \"price\":cost[1:],\n",
    "            \"type\":tp,\n",
    "            \"daily-prices\":[{\n",
    "                \"date\":datetime.today().strftime('%d-%m-%Y'),\n",
    "                \"price\":cost[1:]\n",
    "            }]\n",
    "        }\n",
    "    except:\n",
    "        err.append((link,tp))\n",
    "        return None\n",
    "\n",
    "# print(get_details(\"https://www.amazon.in/sspa/click?ie=UTF8&spc=MTo2ODEwMDY3Njk2MzY3MzEwOjE3MjQ4Mzg2MjI6c3BfYXRmOjMwMDE1MzkwMDQ2NzYzMjo6MDo6&url=%2FARTTDINOX-Stainless-nonstick-Rivetless-Induction%2Fdp%2FB0CVXQ4BGT%2Fref%3Dsr_1_1_sspa%3Fdib%3DeyJ2IjoiMSJ9.IXypzwOyXIc4A8VmoYwI4q9ZNOZ0bL2Svn414RuayaoCqr7croYgBEXx0KfXnLslJbx8NlAQeuXrMOufhpg_lO8VLgLs11GVZVTNeEmfNUfPfERYdvSMwtxOo9votYGOJpFWYc-NbRFfhu352Lh0xWys0HUWhPl5DKRUnHVeOGngpwk0y47eF-ejnxoOxUBhsnd4vte88zdVZibXsqnWM0iPl6V4gF7X3Go8hLua4BWxkrNjKn0odQpfaLDifxQsAsSnZ16I1zHsRo0YhKaI8Js8lraZoU6OSYJ8H5xiRzk.is7uyAYelJ1cF1zLVFAhBpMswAUk1m5rOfYh7wvNWUI%26dib_tag%3Dse%26keywords%3Dutensils%26qid%3D1724838622%26sr%3D8-1-spons%26sp_csd%3Dd2lkZ2V0TmFtZT1zcF9hdGY%26psc%3D1#customerReviews\"))\n"
   ]
  },
  {
   "cell_type": "code",
   "execution_count": 56,
   "metadata": {},
   "outputs": [
    {
     "data": {
      "text/plain": [
       "[('https://www.amazon.in/sspa/click?ie=UTF8&spc=MToxNzY3MzcwNTc4ODE2MjkwOjE3MjQ4Mzg3MTA6c3BfYXRmOjMwMDI1MTEzMTYxODIzMjo6MDo6&url=%2FRedmi-Diamond-Largest-Display-Segment%2Fdp%2FB0D78Y577J%2Fref%3Dsr_1_1_sspa%3Fdib%3DeyJ2IjoiMSJ9.iGrSnW5DGgflTkUxA_8HEfOPbCMMUK-Jot-MEHQe7y_-GHenKvEt8-p0qib1hbrm4euKhMB-_JA1euvkViYnIcEbIdFqbmNFwmWnPCc-tzAa-SSxMe1ZjZyXU96D6bXQZ4wd5lwwXYmdIMP95CgX-DXUvcEsA2-9MfG6rdrgJyc7aPiXh52f42d_PQdK7dc-OYOTPz5upqqt5tCzGLAeyF98XYP_N9ONFvDXLs1Rv4Q.HnBhC9x3Ni0n7aQgTE7q5cnSRNrK7FReV_NqxXAoPuo%26dib_tag%3Dse%26keywords%3Dmobiles%26qid%3D1724838710%26sr%3D8-1-spons%26sp_csd%3Dd2lkZ2V0TmFtZT1zcF9hdGY%26psc%3D1',\n",
       "  'mobiles'),\n",
       " ('https://www.amazon.in/sspa/click?ie=UTF8&spc=MToxNzY3MzcwNTc4ODE2MjkwOjE3MjQ4Mzg3MTA6c3BfYXRmOjMwMDE1MjgxMDc0NDgzMjo6MDo6&url=%2FRedmi-Purple-Storage-Flagship-TurboCharge%2Fdp%2FB0CRQG58T8%2Fref%3Dsr_1_2_sspa%3Fdib%3DeyJ2IjoiMSJ9.iGrSnW5DGgflTkUxA_8HEfOPbCMMUK-Jot-MEHQe7y_-GHenKvEt8-p0qib1hbrm4euKhMB-_JA1euvkViYnIcEbIdFqbmNFwmWnPCc-tzAa-SSxMe1ZjZyXU96D6bXQZ4wd5lwwXYmdIMP95CgX-DXUvcEsA2-9MfG6rdrgJyc7aPiXh52f42d_PQdK7dc-OYOTPz5upqqt5tCzGLAeyF98XYP_N9ONFvDXLs1Rv4Q.HnBhC9x3Ni0n7aQgTE7q5cnSRNrK7FReV_NqxXAoPuo%26dib_tag%3Dse%26keywords%3Dmobiles%26qid%3D1724838710%26sr%3D8-2-spons%26sp_csd%3Dd2lkZ2V0TmFtZT1zcF9hdGY%26psc%3D1',\n",
       "  'mobiles'),\n",
       " ('https://www.amazon.in/sspa/click?ie=UTF8&spc=MToxNzY3MzcwNTc4ODE2MjkwOjE3MjQ4Mzg3MTA6c3BfYXRmOjMwMDE1MjgxMDc0NDgzMjo6MDo6&url=%2FRedmi-Purple-Storage-Flagship-TurboCharge%2Fdp%2FB0CRQG58T8%2Fref%3Dsr_1_2_sspa%3Fdib%3DeyJ2IjoiMSJ9.iGrSnW5DGgflTkUxA_8HEfOPbCMMUK-Jot-MEHQe7y_-GHenKvEt8-p0qib1hbrm4euKhMB-_JA1euvkViYnIcEbIdFqbmNFwmWnPCc-tzAa-SSxMe1ZjZyXU96D6bXQZ4wd5lwwXYmdIMP95CgX-DXUvcEsA2-9MfG6rdrgJyc7aPiXh52f42d_PQdK7dc-OYOTPz5upqqt5tCzGLAeyF98XYP_N9ONFvDXLs1Rv4Q.HnBhC9x3Ni0n7aQgTE7q5cnSRNrK7FReV_NqxXAoPuo%26dib_tag%3Dse%26keywords%3Dmobiles%26qid%3D1724838710%26sr%3D8-2-spons%26sp_csd%3Dd2lkZ2V0TmFtZT1zcF9hdGY%26psc%3D1#customerReviews',\n",
       "  'mobiles'),\n",
       " ('https://www.amazon.in/sspa/click?ie=UTF8&spc=MToxNzY3MzcwNTc4ODE2MjkwOjE3MjQ4Mzg3MTA6c3BfYXRmOjMwMDE1MjgxMDc0NDgzMjo6MDo6&url=%2FRedmi-Purple-Storage-Flagship-TurboCharge%2Fdp%2FB0CRQG58T8%2Fref%3Dsr_1_2_sspa%3Fdib%3DeyJ2IjoiMSJ9.iGrSnW5DGgflTkUxA_8HEfOPbCMMUK-Jot-MEHQe7y_-GHenKvEt8-p0qib1hbrm4euKhMB-_JA1euvkViYnIcEbIdFqbmNFwmWnPCc-tzAa-SSxMe1ZjZyXU96D6bXQZ4wd5lwwXYmdIMP95CgX-DXUvcEsA2-9MfG6rdrgJyc7aPiXh52f42d_PQdK7dc-OYOTPz5upqqt5tCzGLAeyF98XYP_N9ONFvDXLs1Rv4Q.HnBhC9x3Ni0n7aQgTE7q5cnSRNrK7FReV_NqxXAoPuo%26dib_tag%3Dse%26keywords%3Dmobiles%26qid%3D1724838710%26sr%3D8-2-spons%26sp_csd%3Dd2lkZ2V0TmFtZT1zcF9hdGY%26psc%3D1',\n",
       "  'mobiles'),\n",
       " ('https://www.amazon.in/sspa/click?ie=UTF8&spc=MTo4MzYzMjAxMDU2MDM1MzY0OjE3MjQ4Mzg2NjI6c3BfYXRmOjMwMDA4NTQwMzIxODczMjo6MDo6&url=%2FApple-MacBook-16-inch-16%25E2%2580%2591core-40%25E2%2580%2591core%2Fdp%2FB0CM5SZ7CP%2Fref%3Dsr_1_1_sspa%3Fdib%3DeyJ2IjoiMSJ9.vEMlSgt1LZE1LPvJ3hhaaX-xBCDE_iglHQJWd0ju47x1RmNmZdiCBAmLP3NYy_I1CCQ2Y6nvA0nqQ64mKduK5bhOIbOh99MIqZiDW_I3Q6CzwOss2yj0nVWMiCOfQ-DaMT0ug96b_r-0BhmWdL2QXWiBwlzVR8uhZSJBl2n8YuV5YyO-cA8Jv2TAkmk3-dbX0obNLvVAmzW6hFn-qlxUp5ub8RQZfd14txA9xq2qQp4.hqstI78fqrnPs8twecOLMECHLeE363ermHoGh9z-QWM%26dib_tag%3Dse%26keywords%3Dlaptops%26qid%3D1724838662%26sr%3D8-1-spons%26sp_csd%3Dd2lkZ2V0TmFtZT1zcF9hdGY%26psc%3D1',\n",
       "  'laptops'),\n",
       " ('https://www.amazon.in/sspa/click?ie=UTF8&spc=MTo4MzYzMjAxMDU2MDM1MzY0OjE3MjQ4Mzg2NjI6c3BfYXRmOjMwMDA4NTQwMzIxODczMjo6MDo6&url=%2FApple-MacBook-16-inch-16%25E2%2580%2591core-40%25E2%2580%2591core%2Fdp%2FB0CM5SZ7CP%2Fref%3Dsr_1_1_sspa%3Fdib%3DeyJ2IjoiMSJ9.vEMlSgt1LZE1LPvJ3hhaaX-xBCDE_iglHQJWd0ju47x1RmNmZdiCBAmLP3NYy_I1CCQ2Y6nvA0nqQ64mKduK5bhOIbOh99MIqZiDW_I3Q6CzwOss2yj0nVWMiCOfQ-DaMT0ug96b_r-0BhmWdL2QXWiBwlzVR8uhZSJBl2n8YuV5YyO-cA8Jv2TAkmk3-dbX0obNLvVAmzW6hFn-qlxUp5ub8RQZfd14txA9xq2qQp4.hqstI78fqrnPs8twecOLMECHLeE363ermHoGh9z-QWM%26dib_tag%3Dse%26keywords%3Dlaptops%26qid%3D1724838662%26sr%3D8-1-spons%26sp_csd%3Dd2lkZ2V0TmFtZT1zcF9hdGY%26psc%3D1',\n",
       "  'laptops'),\n",
       " ('https://www.amazon.in/sspa/click?ie=UTF8&spc=MTo4MzYzMjAxMDU2MDM1MzY0OjE3MjQ4Mzg2NjI6c3BfYXRmOjMwMDA4NTQwMzIxODczMjo6MDo6&url=%2FApple-MacBook-16-inch-16%25E2%2580%2591core-40%25E2%2580%2591core%2Fdp%2FB0CM5SZ7CP%2Fref%3Dsr_1_1_sspa%3Fdib%3DeyJ2IjoiMSJ9.vEMlSgt1LZE1LPvJ3hhaaX-xBCDE_iglHQJWd0ju47x1RmNmZdiCBAmLP3NYy_I1CCQ2Y6nvA0nqQ64mKduK5bhOIbOh99MIqZiDW_I3Q6CzwOss2yj0nVWMiCOfQ-DaMT0ug96b_r-0BhmWdL2QXWiBwlzVR8uhZSJBl2n8YuV5YyO-cA8Jv2TAkmk3-dbX0obNLvVAmzW6hFn-qlxUp5ub8RQZfd14txA9xq2qQp4.hqstI78fqrnPs8twecOLMECHLeE363ermHoGh9z-QWM%26dib_tag%3Dse%26keywords%3Dlaptops%26qid%3D1724838662%26sr%3D8-1-spons%26sp_csd%3Dd2lkZ2V0TmFtZT1zcF9hdGY%26psc%3D1#customerReviews',\n",
       "  'laptops'),\n",
       " ('https://www.amazon.in/sspa/click?ie=UTF8&spc=MTo4MzYzMjAxMDU2MDM1MzY0OjE3MjQ4Mzg2NjI6c3BfYXRmOjMwMDA4NTQwMzIxODczMjo6MDo6&url=%2FApple-MacBook-16-inch-16%25E2%2580%2591core-40%25E2%2580%2591core%2Fdp%2FB0CM5SZ7CP%2Fref%3Dsr_1_1_sspa%3Fdib%3DeyJ2IjoiMSJ9.vEMlSgt1LZE1LPvJ3hhaaX-xBCDE_iglHQJWd0ju47x1RmNmZdiCBAmLP3NYy_I1CCQ2Y6nvA0nqQ64mKduK5bhOIbOh99MIqZiDW_I3Q6CzwOss2yj0nVWMiCOfQ-DaMT0ug96b_r-0BhmWdL2QXWiBwlzVR8uhZSJBl2n8YuV5YyO-cA8Jv2TAkmk3-dbX0obNLvVAmzW6hFn-qlxUp5ub8RQZfd14txA9xq2qQp4.hqstI78fqrnPs8twecOLMECHLeE363ermHoGh9z-QWM%26dib_tag%3Dse%26keywords%3Dlaptops%26qid%3D1724838662%26sr%3D8-1-spons%26sp_csd%3Dd2lkZ2V0TmFtZT1zcF9hdGY%26psc%3D1',\n",
       "  'laptops'),\n",
       " ('https://www.amazon.in/sspa/click?ie=UTF8&spc=MTo2Mjc1MzUyNjg3NDUwOTM2OjE3MjQ4Mzg2NjI6c3Bfc2VhcmNoX3RoZW1hdGljOjMwMDIyNDI2MzYwMTQzMjo6MDo6&url=%2FLenovo-IdeaPad-i7-13620H-38-1cm-83EM008GIN%2Fdp%2FB0D6NCVQZQ%2Fref%3Dsxin_15_pa_sp_search_thematic_sspa%3Fcontent-id%3Damzn1.sym.cb608b1c-c215-4c3c-8e0a-e1e34a11ff0e%253Aamzn1.sym.cb608b1c-c215-4c3c-8e0a-e1e34a11ff0e%26cv_ct_cx%3Dlaptops%26dib%3DeyJ2IjoiMSJ9.tgptErfPiToZtIPJ1IM1WL4b5x7pVPVYk1nkNKE68mmDY0mZEcXT5V4meTS4Z6ZdFJ8iekz6ClawLGZ9yWIbVQ.cdd_MiquK8rsBzDH-d4TrRITUccWbUue4HNKnsxGyXw%26dib_tag%3Dse%26keywords%3Dlaptops%26pd_rd_i%3DB0D6NCVQZQ%26pd_rd_r%3D6c6e7337-65ea-45c1-b469-8b82c045e4af%26pd_rd_w%3D4wQ1f%26pd_rd_wg%3DW3T2a%26pf_rd_p%3Dcb608b1c-c215-4c3c-8e0a-e1e34a11ff0e%26pf_rd_r%3DXTBZVCRC5RYGHXHS61NG%26qid%3D1724838662%26sbo%3DRZvfv%252F%252FHxDF%252BO5021pAnSA%253D%253D%26sr%3D1-1-ced4eeeb-b190-41d6-902a-1ecb3fb8b7c4-spons%26sp_csd%3Dd2lkZ2V0TmFtZT1zcF9zZWFyY2hfdGhlbWF0aWM%26psc%3D1',\n",
       "  'laptops'),\n",
       " ('https://www.amazon.in/sspa/click?ie=UTF8&spc=MTo2Mjc1MzUyNjg3NDUwOTM2OjE3MjQ4Mzg2NjI6c3Bfc2VhcmNoX3RoZW1hdGljOjMwMDIyNDI2MzYwMTQzMjo6MDo6&url=%2FLenovo-IdeaPad-i7-13620H-38-1cm-83EM008GIN%2Fdp%2FB0D6NCVQZQ%2Fref%3Dsxin_15_pa_sp_search_thematic_sspa%3Fcontent-id%3Damzn1.sym.cb608b1c-c215-4c3c-8e0a-e1e34a11ff0e%253Aamzn1.sym.cb608b1c-c215-4c3c-8e0a-e1e34a11ff0e%26cv_ct_cx%3Dlaptops%26dib%3DeyJ2IjoiMSJ9.tgptErfPiToZtIPJ1IM1WL4b5x7pVPVYk1nkNKE68mmDY0mZEcXT5V4meTS4Z6ZdFJ8iekz6ClawLGZ9yWIbVQ.cdd_MiquK8rsBzDH-d4TrRITUccWbUue4HNKnsxGyXw%26dib_tag%3Dse%26keywords%3Dlaptops%26pd_rd_i%3DB0D6NCVQZQ%26pd_rd_r%3D6c6e7337-65ea-45c1-b469-8b82c045e4af%26pd_rd_w%3D4wQ1f%26pd_rd_wg%3DW3T2a%26pf_rd_p%3Dcb608b1c-c215-4c3c-8e0a-e1e34a11ff0e%26pf_rd_r%3DXTBZVCRC5RYGHXHS61NG%26qid%3D1724838662%26sbo%3DRZvfv%252F%252FHxDF%252BO5021pAnSA%253D%253D%26sr%3D1-1-ced4eeeb-b190-41d6-902a-1ecb3fb8b7c4-spons%26sp_csd%3Dd2lkZ2V0TmFtZT1zcF9zZWFyY2hfdGhlbWF0aWM%26psc%3D1',\n",
       "  'laptops'),\n",
       " ('https://www.amazon.in/sspa/click?ie=UTF8&spc=MTo2Mjc1MzUyNjg3NDUwOTM2OjE3MjQ4Mzg2NjI6c3Bfc2VhcmNoX3RoZW1hdGljOjMwMDIyNDI2MzYwMTQzMjo6MDo6&url=%2FLenovo-IdeaPad-i7-13620H-38-1cm-83EM008GIN%2Fdp%2FB0D6NCVQZQ%2Fref%3Dsxin_15_pa_sp_search_thematic_sspa%3Fcontent-id%3Damzn1.sym.cb608b1c-c215-4c3c-8e0a-e1e34a11ff0e%253Aamzn1.sym.cb608b1c-c215-4c3c-8e0a-e1e34a11ff0e%26cv_ct_cx%3Dlaptops%26dib%3DeyJ2IjoiMSJ9.tgptErfPiToZtIPJ1IM1WL4b5x7pVPVYk1nkNKE68mmDY0mZEcXT5V4meTS4Z6ZdFJ8iekz6ClawLGZ9yWIbVQ.cdd_MiquK8rsBzDH-d4TrRITUccWbUue4HNKnsxGyXw%26dib_tag%3Dse%26keywords%3Dlaptops%26pd_rd_i%3DB0D6NCVQZQ%26pd_rd_r%3D6c6e7337-65ea-45c1-b469-8b82c045e4af%26pd_rd_w%3D4wQ1f%26pd_rd_wg%3DW3T2a%26pf_rd_p%3Dcb608b1c-c215-4c3c-8e0a-e1e34a11ff0e%26pf_rd_r%3DXTBZVCRC5RYGHXHS61NG%26qid%3D1724838662%26sbo%3DRZvfv%252F%252FHxDF%252BO5021pAnSA%253D%253D%26sr%3D1-1-ced4eeeb-b190-41d6-902a-1ecb3fb8b7c4-spons%26sp_csd%3Dd2lkZ2V0TmFtZT1zcF9zZWFyY2hfdGhlbWF0aWM%26psc%3D1#customerReviews',\n",
       "  'laptops'),\n",
       " ('https://www.amazon.in/sspa/click?ie=UTF8&spc=MToxNzY3MzcwNTc4ODE2MjkwOjE3MjQ4Mzg3MTA6c3BfYXRmOjMwMDI1MTEzMTYxODIzMjo6MDo6&url=%2FRedmi-Diamond-Largest-Display-Segment%2Fdp%2FB0D78Y577J%2Fref%3Dsr_1_1_sspa%3Fdib%3DeyJ2IjoiMSJ9.iGrSnW5DGgflTkUxA_8HEfOPbCMMUK-Jot-MEHQe7y_-GHenKvEt8-p0qib1hbrm4euKhMB-_JA1euvkViYnIcEbIdFqbmNFwmWnPCc-tzAa-SSxMe1ZjZyXU96D6bXQZ4wd5lwwXYmdIMP95CgX-DXUvcEsA2-9MfG6rdrgJyc7aPiXh52f42d_PQdK7dc-OYOTPz5upqqt5tCzGLAeyF98XYP_N9ONFvDXLs1Rv4Q.HnBhC9x3Ni0n7aQgTE7q5cnSRNrK7FReV_NqxXAoPuo%26dib_tag%3Dse%26keywords%3Dmobiles%26qid%3D1724838710%26sr%3D8-1-spons%26sp_csd%3Dd2lkZ2V0TmFtZT1zcF9hdGY%26psc%3D1',\n",
       "  'mobiles'),\n",
       " ('https://www.amazon.in/sspa/click?ie=UTF8&spc=MToxNzY3MzcwNTc4ODE2MjkwOjE3MjQ4Mzg3MTA6c3BfYXRmOjMwMDI1MTEzMTYxODIzMjo6MDo6&url=%2FRedmi-Diamond-Largest-Display-Segment%2Fdp%2FB0D78Y577J%2Fref%3Dsr_1_1_sspa%3Fdib%3DeyJ2IjoiMSJ9.iGrSnW5DGgflTkUxA_8HEfOPbCMMUK-Jot-MEHQe7y_-GHenKvEt8-p0qib1hbrm4euKhMB-_JA1euvkViYnIcEbIdFqbmNFwmWnPCc-tzAa-SSxMe1ZjZyXU96D6bXQZ4wd5lwwXYmdIMP95CgX-DXUvcEsA2-9MfG6rdrgJyc7aPiXh52f42d_PQdK7dc-OYOTPz5upqqt5tCzGLAeyF98XYP_N9ONFvDXLs1Rv4Q.HnBhC9x3Ni0n7aQgTE7q5cnSRNrK7FReV_NqxXAoPuo%26dib_tag%3Dse%26keywords%3Dmobiles%26qid%3D1724838710%26sr%3D8-1-spons%26sp_csd%3Dd2lkZ2V0TmFtZT1zcF9hdGY%26psc%3D1',\n",
       "  'mobiles'),\n",
       " ('https://www.amazon.in/sspa/click?ie=UTF8&spc=MToxNzY3MzcwNTc4ODE2MjkwOjE3MjQ4Mzg3MTA6c3BfYXRmOjMwMDI1MTEzMTYxODIzMjo6MDo6&url=%2FRedmi-Diamond-Largest-Display-Segment%2Fdp%2FB0D78Y577J%2Fref%3Dsr_1_1_sspa%3Fdib%3DeyJ2IjoiMSJ9.iGrSnW5DGgflTkUxA_8HEfOPbCMMUK-Jot-MEHQe7y_-GHenKvEt8-p0qib1hbrm4euKhMB-_JA1euvkViYnIcEbIdFqbmNFwmWnPCc-tzAa-SSxMe1ZjZyXU96D6bXQZ4wd5lwwXYmdIMP95CgX-DXUvcEsA2-9MfG6rdrgJyc7aPiXh52f42d_PQdK7dc-OYOTPz5upqqt5tCzGLAeyF98XYP_N9ONFvDXLs1Rv4Q.HnBhC9x3Ni0n7aQgTE7q5cnSRNrK7FReV_NqxXAoPuo%26dib_tag%3Dse%26keywords%3Dmobiles%26qid%3D1724838710%26sr%3D8-1-spons%26sp_csd%3Dd2lkZ2V0TmFtZT1zcF9hdGY%26psc%3D1#customerReviews',\n",
       "  'mobiles'),\n",
       " ('https://www.amazon.in/sspa/click?ie=UTF8&spc=MToxNzY3MzcwNTc4ODE2MjkwOjE3MjQ4Mzg3MTA6c3BfYXRmOjMwMDI1MTEzMTYxODIzMjo6MDo6&url=%2FRedmi-Diamond-Largest-Display-Segment%2Fdp%2FB0D78Y577J%2Fref%3Dsr_1_1_sspa%3Fdib%3DeyJ2IjoiMSJ9.iGrSnW5DGgflTkUxA_8HEfOPbCMMUK-Jot-MEHQe7y_-GHenKvEt8-p0qib1hbrm4euKhMB-_JA1euvkViYnIcEbIdFqbmNFwmWnPCc-tzAa-SSxMe1ZjZyXU96D6bXQZ4wd5lwwXYmdIMP95CgX-DXUvcEsA2-9MfG6rdrgJyc7aPiXh52f42d_PQdK7dc-OYOTPz5upqqt5tCzGLAeyF98XYP_N9ONFvDXLs1Rv4Q.HnBhC9x3Ni0n7aQgTE7q5cnSRNrK7FReV_NqxXAoPuo%26dib_tag%3Dse%26keywords%3Dmobiles%26qid%3D1724838710%26sr%3D8-1-spons%26sp_csd%3Dd2lkZ2V0TmFtZT1zcF9hdGY%26psc%3D1',\n",
       "  'mobiles'),\n",
       " ('https://www.amazon.in/sspa/click?ie=UTF8&spc=MToxNzY3MzcwNTc4ODE2MjkwOjE3MjQ4Mzg3MTA6c3BfYXRmOjMwMDI1MTEzMTYxODIzMjo6MDo6&url=%2FRedmi-Diamond-Largest-Display-Segment%2Fdp%2FB0D78Y577J%2Fref%3Dsr_1_1_sspa%3Fdib%3DeyJ2IjoiMSJ9.iGrSnW5DGgflTkUxA_8HEfOPbCMMUK-Jot-MEHQe7y_-GHenKvEt8-p0qib1hbrm4euKhMB-_JA1euvkViYnIcEbIdFqbmNFwmWnPCc-tzAa-SSxMe1ZjZyXU96D6bXQZ4wd5lwwXYmdIMP95CgX-DXUvcEsA2-9MfG6rdrgJyc7aPiXh52f42d_PQdK7dc-OYOTPz5upqqt5tCzGLAeyF98XYP_N9ONFvDXLs1Rv4Q.HnBhC9x3Ni0n7aQgTE7q5cnSRNrK7FReV_NqxXAoPuo%26dib_tag%3Dse%26keywords%3Dmobiles%26qid%3D1724838710%26sr%3D8-1-spons%26sp_csd%3Dd2lkZ2V0TmFtZT1zcF9hdGY%26psc%3D1',\n",
       "  'mobiles'),\n",
       " ('https://www.amazon.in/sspa/click?ie=UTF8&spc=MToxNzY3MzcwNTc4ODE2MjkwOjE3MjQ4Mzg3MTA6c3BfYXRmOjMwMDE1MjgxMDc0NDgzMjo6MDo6&url=%2FRedmi-Purple-Storage-Flagship-TurboCharge%2Fdp%2FB0CRQG58T8%2Fref%3Dsr_1_2_sspa%3Fdib%3DeyJ2IjoiMSJ9.iGrSnW5DGgflTkUxA_8HEfOPbCMMUK-Jot-MEHQe7y_-GHenKvEt8-p0qib1hbrm4euKhMB-_JA1euvkViYnIcEbIdFqbmNFwmWnPCc-tzAa-SSxMe1ZjZyXU96D6bXQZ4wd5lwwXYmdIMP95CgX-DXUvcEsA2-9MfG6rdrgJyc7aPiXh52f42d_PQdK7dc-OYOTPz5upqqt5tCzGLAeyF98XYP_N9ONFvDXLs1Rv4Q.HnBhC9x3Ni0n7aQgTE7q5cnSRNrK7FReV_NqxXAoPuo%26dib_tag%3Dse%26keywords%3Dmobiles%26qid%3D1724838710%26sr%3D8-2-spons%26sp_csd%3Dd2lkZ2V0TmFtZT1zcF9hdGY%26psc%3D1',\n",
       "  'mobiles'),\n",
       " ('https://www.amazon.in/sspa/click?ie=UTF8&spc=MToxNzY3MzcwNTc4ODE2MjkwOjE3MjQ4Mzg3MTA6c3BfYXRmOjMwMDE1MjgxMDc0NDgzMjo6MDo6&url=%2FRedmi-Purple-Storage-Flagship-TurboCharge%2Fdp%2FB0CRQG58T8%2Fref%3Dsr_1_2_sspa%3Fdib%3DeyJ2IjoiMSJ9.iGrSnW5DGgflTkUxA_8HEfOPbCMMUK-Jot-MEHQe7y_-GHenKvEt8-p0qib1hbrm4euKhMB-_JA1euvkViYnIcEbIdFqbmNFwmWnPCc-tzAa-SSxMe1ZjZyXU96D6bXQZ4wd5lwwXYmdIMP95CgX-DXUvcEsA2-9MfG6rdrgJyc7aPiXh52f42d_PQdK7dc-OYOTPz5upqqt5tCzGLAeyF98XYP_N9ONFvDXLs1Rv4Q.HnBhC9x3Ni0n7aQgTE7q5cnSRNrK7FReV_NqxXAoPuo%26dib_tag%3Dse%26keywords%3Dmobiles%26qid%3D1724838710%26sr%3D8-2-spons%26sp_csd%3Dd2lkZ2V0TmFtZT1zcF9hdGY%26psc%3D1#customerReviews',\n",
       "  'mobiles'),\n",
       " ('https://www.amazon.in/sspa/click?ie=UTF8&spc=MToxNzY3MzcwNTc4ODE2MjkwOjE3MjQ4Mzg3MTA6c3BfYXRmOjMwMDE1MjgxMDc0NDgzMjo6MDo6&url=%2FRedmi-Purple-Storage-Flagship-TurboCharge%2Fdp%2FB0CRQG58T8%2Fref%3Dsr_1_2_sspa%3Fdib%3DeyJ2IjoiMSJ9.iGrSnW5DGgflTkUxA_8HEfOPbCMMUK-Jot-MEHQe7y_-GHenKvEt8-p0qib1hbrm4euKhMB-_JA1euvkViYnIcEbIdFqbmNFwmWnPCc-tzAa-SSxMe1ZjZyXU96D6bXQZ4wd5lwwXYmdIMP95CgX-DXUvcEsA2-9MfG6rdrgJyc7aPiXh52f42d_PQdK7dc-OYOTPz5upqqt5tCzGLAeyF98XYP_N9ONFvDXLs1Rv4Q.HnBhC9x3Ni0n7aQgTE7q5cnSRNrK7FReV_NqxXAoPuo%26dib_tag%3Dse%26keywords%3Dmobiles%26qid%3D1724838710%26sr%3D8-2-spons%26sp_csd%3Dd2lkZ2V0TmFtZT1zcF9hdGY%26psc%3D1',\n",
       "  'mobiles')]"
      ]
     },
     "execution_count": 56,
     "metadata": {},
     "output_type": "execute_result"
    }
   ],
   "source": [
    "err"
   ]
  },
  {
   "cell_type": "code",
   "execution_count": 46,
   "metadata": {},
   "outputs": [],
   "source": [
    "out_put = open('myfile.json','r')\n",
    "data = json.load(out_put)\n",
    "get_detail = []"
   ]
  },
  {
   "cell_type": "code",
   "execution_count": 47,
   "metadata": {},
   "outputs": [],
   "source": [
    "\n",
    "for x in data:\n",
    "    get_detail.append(get_details(x['url'],x['type']))"
   ]
  },
  {
   "cell_type": "code",
   "execution_count": 54,
   "metadata": {},
   "outputs": [],
   "source": [
    "count = []\n",
    "for y in get_detail:\n",
    "    if y==None:\n",
    "        continue\n",
    "    count.append(y)"
   ]
  },
  {
   "cell_type": "code",
   "execution_count": 52,
   "metadata": {},
   "outputs": [
    {
     "data": {
      "text/plain": [
       "55"
      ]
     },
     "execution_count": 52,
     "metadata": {},
     "output_type": "execute_result"
    }
   ],
   "source": []
  },
  {
   "cell_type": "code",
   "execution_count": 53,
   "metadata": {},
   "outputs": [
    {
     "data": {
      "text/plain": [
       "55"
      ]
     },
     "execution_count": 53,
     "metadata": {},
     "output_type": "execute_result"
    }
   ],
   "source": [
    "len(get_detail)"
   ]
  },
  {
   "cell_type": "code",
   "execution_count": 55,
   "metadata": {},
   "outputs": [],
   "source": [
    "out = open('main_data.json','w')\n",
    "json.dump(count,out,indent=6)\n",
    "out.close()"
   ]
  },
  {
   "cell_type": "code",
   "execution_count": 32,
   "metadata": {},
   "outputs": [],
   "source": [
    "driver.quit()"
   ]
  },
  {
   "cell_type": "code",
   "execution_count": 31,
   "metadata": {},
   "outputs": [
    {
     "data": {
      "text/plain": [
       "33"
      ]
     },
     "execution_count": 31,
     "metadata": {},
     "output_type": "execute_result"
    }
   ],
   "source": [
    "len(get_detail)"
   ]
  },
  {
   "cell_type": "code",
   "execution_count": null,
   "metadata": {},
   "outputs": [],
   "source": []
  }
 ],
 "metadata": {
  "kernelspec": {
   "display_name": ".venv",
   "language": "python",
   "name": "python3"
  },
  "language_info": {
   "codemirror_mode": {
    "name": "ipython",
    "version": 3
   },
   "file_extension": ".py",
   "mimetype": "text/x-python",
   "name": "python",
   "nbconvert_exporter": "python",
   "pygments_lexer": "ipython3",
   "version": "3.11.7"
  }
 },
 "nbformat": 4,
 "nbformat_minor": 2
}
