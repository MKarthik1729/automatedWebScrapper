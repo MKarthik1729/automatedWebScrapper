{
 "cells": [
  {
   "cell_type": "code",
   "execution_count": 1,
   "metadata": {},
   "outputs": [],
   "source": [
    "import os\n",
    "import subprocess\n",
    "from subprocess import PIPE\n",
    "from selenium import webdriver\n",
    "from selenium.webdriver.chrome.service import Service\n",
    "from selenium.webdriver.common.by import By\n",
    "from selenium.webdriver.common.keys import Keys\n",
    "from selenium.webdriver.support.ui import WebDriverWait\n",
    "from selenium.webdriver.support import expected_conditions as EC\n",
    "import time\n",
    "import requests\n",
    "import json"
   ]
  },
  {
   "cell_type": "code",
   "execution_count": 9,
   "metadata": {},
   "outputs": [
    {
     "name": "stderr",
     "output_type": "stream",
     "text": [
      "Error sending stats to Plausible: error sending request for url (https://plausible.io/api/event)\n"
     ]
    }
   ],
   "source": [
    "driver = webdriver.Chrome()"
   ]
  },
  {
   "cell_type": "code",
   "execution_count": 16,
   "metadata": {},
   "outputs": [],
   "source": [
    "\n",
    "def get_details(link):     \n",
    "    \n",
    "    driver.get(link)\n",
    "    title = driver.find_element(by=By.ID,value=\"productTitle\").text\n",
    "    img = driver.find_element(by=By.CLASS_NAME,value=\"a-stretch-vertical\").get_attribute(\"src\")\n",
    "    cost = driver.find_element(by=By.CLASS_NAME,value=\"priceToPay\").text\n",
    "    WebDriverWait(driver,5).until(\n",
    "        EC.presence_of_all_elements_located((By.CLASS_NAME,\"a-stretch-vertical\"))\n",
    "    )\n",
    "    return {\n",
    "        \"title\":title,\n",
    "        \"img\":img,\n",
    "        \"price\":cost\n",
    "    }\n",
    "\n",
    "# print(get_details(\"https://www.amazon.in/sspa/click?ie=UTF8&spc=MTo2ODEwMDY3Njk2MzY3MzEwOjE3MjQ4Mzg2MjI6c3BfYXRmOjMwMDE1MzkwMDQ2NzYzMjo6MDo6&url=%2FARTTDINOX-Stainless-nonstick-Rivetless-Induction%2Fdp%2FB0CVXQ4BGT%2Fref%3Dsr_1_1_sspa%3Fdib%3DeyJ2IjoiMSJ9.IXypzwOyXIc4A8VmoYwI4q9ZNOZ0bL2Svn414RuayaoCqr7croYgBEXx0KfXnLslJbx8NlAQeuXrMOufhpg_lO8VLgLs11GVZVTNeEmfNUfPfERYdvSMwtxOo9votYGOJpFWYc-NbRFfhu352Lh0xWys0HUWhPl5DKRUnHVeOGngpwk0y47eF-ejnxoOxUBhsnd4vte88zdVZibXsqnWM0iPl6V4gF7X3Go8hLua4BWxkrNjKn0odQpfaLDifxQsAsSnZ16I1zHsRo0YhKaI8Js8lraZoU6OSYJ8H5xiRzk.is7uyAYelJ1cF1zLVFAhBpMswAUk1m5rOfYh7wvNWUI%26dib_tag%3Dse%26keywords%3Dutensils%26qid%3D1724838622%26sr%3D8-1-spons%26sp_csd%3Dd2lkZ2V0TmFtZT1zcF9hdGY%26psc%3D1#customerReviews\"))\n"
   ]
  },
  {
   "cell_type": "code",
   "execution_count": 14,
   "metadata": {},
   "outputs": [],
   "source": [
    "out_put = open('myfile.json','r')\n",
    "data = json.load(out_put)\n",
    "get_detail = []"
   ]
  },
  {
   "cell_type": "code",
   "execution_count": null,
   "metadata": {},
   "outputs": [],
   "source": [
    "\n",
    "for x in data[48:]:\n",
    "    get_detail.append(get_details(x['url']))"
   ]
  },
  {
   "cell_type": "code",
   "execution_count": 30,
   "metadata": {},
   "outputs": [],
   "source": [
    "out = open('main_data.json','w')\n",
    "json.dump(get_detail,out,indent=6)\n",
    "out.close()"
   ]
  },
  {
   "cell_type": "code",
   "execution_count": 32,
   "metadata": {},
   "outputs": [],
   "source": [
    "driver.quit()"
   ]
  },
  {
   "cell_type": "code",
   "execution_count": 31,
   "metadata": {},
   "outputs": [
    {
     "data": {
      "text/plain": [
       "33"
      ]
     },
     "execution_count": 31,
     "metadata": {},
     "output_type": "execute_result"
    }
   ],
   "source": [
    "len(get_detail)"
   ]
  },
  {
   "cell_type": "code",
   "execution_count": null,
   "metadata": {},
   "outputs": [],
   "source": []
  }
 ],
 "metadata": {
  "kernelspec": {
   "display_name": ".venv",
   "language": "python",
   "name": "python3"
  },
  "language_info": {
   "codemirror_mode": {
    "name": "ipython",
    "version": 3
   },
   "file_extension": ".py",
   "mimetype": "text/x-python",
   "name": "python",
   "nbconvert_exporter": "python",
   "pygments_lexer": "ipython3",
   "version": "3.11.7"
  }
 },
 "nbformat": 4,
 "nbformat_minor": 2
}
