{
 "cells": [
  {
   "cell_type": "code",
   "execution_count": 1,
   "metadata": {},
   "outputs": [],
   "source": [
    "import os\n",
    "import subprocess\n",
    "from subprocess import PIPE\n",
    "from selenium import webdriver\n",
    "from selenium.webdriver.chrome.service import Service\n",
    "from selenium.webdriver.common.by import By\n",
    "from selenium.webdriver.common.keys import Keys\n",
    "from selenium.webdriver.support.ui import WebDriverWait\n",
    "from selenium.webdriver.support import expected_conditions as EC\n",
    "import time\n",
    "import requests\n",
    "import json"
   ]
  },
  {
   "cell_type": "code",
   "execution_count": 9,
   "metadata": {},
   "outputs": [
    {
     "name": "stderr",
     "output_type": "stream",
     "text": [
      "Error sending stats to Plausible: error sending request for url (https://plausible.io/api/event)\n"
     ]
    }
   ],
   "source": [
    "driver = webdriver.Chrome()"
   ]
  },
  {
   "cell_type": "code",
   "execution_count": 16,
   "metadata": {},
   "outputs": [],
   "source": [
    "\n",
    "def get_details(link):     \n",
    "    \n",
    "    driver.get(link)\n",
    "    title = driver.find_element(by=By.ID,value=\"productTitle\").text\n",
    "    img = driver.find_element(by=By.CLASS_NAME,value=\"a-stretch-vertical\").get_attribute(\"src\")\n",
    "    cost = driver.find_element(by=By.CLASS_NAME,value=\"priceToPay\").text\n",
    "    WebDriverWait(driver,5).until(\n",
    "        EC.presence_of_all_elements_located((By.CLASS_NAME,\"a-stretch-vertical\"))\n",
    "    )\n",
    "    # print(title,img,cost)\n",
    "    return {\n",
    "        \"title\":title,\n",
    "        \"img\":img,\n",
    "        \"price\":cost\n",
    "    }\n",
    "\n",
    "# print(get_details(\"https://www.amazon.in/sspa/click?ie=UTF8&spc=MTo2ODEwMDY3Njk2MzY3MzEwOjE3MjQ4Mzg2MjI6c3BfYXRmOjMwMDE1MzkwMDQ2NzYzMjo6MDo6&url=%2FARTTDINOX-Stainless-nonstick-Rivetless-Induction%2Fdp%2FB0CVXQ4BGT%2Fref%3Dsr_1_1_sspa%3Fdib%3DeyJ2IjoiMSJ9.IXypzwOyXIc4A8VmoYwI4q9ZNOZ0bL2Svn414RuayaoCqr7croYgBEXx0KfXnLslJbx8NlAQeuXrMOufhpg_lO8VLgLs11GVZVTNeEmfNUfPfERYdvSMwtxOo9votYGOJpFWYc-NbRFfhu352Lh0xWys0HUWhPl5DKRUnHVeOGngpwk0y47eF-ejnxoOxUBhsnd4vte88zdVZibXsqnWM0iPl6V4gF7X3Go8hLua4BWxkrNjKn0odQpfaLDifxQsAsSnZ16I1zHsRo0YhKaI8Js8lraZoU6OSYJ8H5xiRzk.is7uyAYelJ1cF1zLVFAhBpMswAUk1m5rOfYh7wvNWUI%26dib_tag%3Dse%26keywords%3Dutensils%26qid%3D1724838622%26sr%3D8-1-spons%26sp_csd%3Dd2lkZ2V0TmFtZT1zcF9hdGY%26psc%3D1#customerReviews\"))\n"
   ]
  },
  {
   "cell_type": "code",
   "execution_count": 14,
   "metadata": {},
   "outputs": [],
   "source": [
    "out_put = open('myfile.json','r')\n",
    "data = json.load(out_put)"
   ]
  },
  {
   "cell_type": "code",
   "execution_count": 29,
   "metadata": {},
   "outputs": [
    {
     "ename": "NoSuchElementException",
     "evalue": "Message: no such element: Unable to locate element: {\"method\":\"css selector\",\"selector\":\".a-stretch-vertical\"}\n  (Session info: chrome=128.0.6613.85); For documentation on this error, please visit: https://www.selenium.dev/documentation/webdriver/troubleshooting/errors#no-such-element-exception\nStacktrace:\n\tGetHandleVerifier [0x00007FF637ACB632+29090]\n\t(No symbol) [0x00007FF637A3E6E9]\n\t(No symbol) [0x00007FF6378FB1CA]\n\t(No symbol) [0x00007FF63794EFD7]\n\t(No symbol) [0x00007FF63794F22C]\n\t(No symbol) [0x00007FF6379997F7]\n\t(No symbol) [0x00007FF63797672F]\n\t(No symbol) [0x00007FF6379965D9]\n\t(No symbol) [0x00007FF637976493]\n\t(No symbol) [0x00007FF6379409B1]\n\t(No symbol) [0x00007FF637941B11]\n\tGetHandleVerifier [0x00007FF637DE881D+3294093]\n\tGetHandleVerifier [0x00007FF637E34403+3604339]\n\tGetHandleVerifier [0x00007FF637E2A2C7+3563063]\n\tGetHandleVerifier [0x00007FF637B86F16+797318]\n\t(No symbol) [0x00007FF637A4986F]\n\t(No symbol) [0x00007FF637A45454]\n\t(No symbol) [0x00007FF637A455E0]\n\t(No symbol) [0x00007FF637A34A7F]\n\tBaseThreadInitThunk [0x00007FF95EF97374+20]\n\tRtlUserThreadStart [0x00007FF96005CC91+33]\n",
     "output_type": "error",
     "traceback": [
      "\u001b[1;31m---------------------------------------------------------------------------\u001b[0m",
      "\u001b[1;31mNoSuchElementException\u001b[0m                    Traceback (most recent call last)",
      "Cell \u001b[1;32mIn[29], line 2\u001b[0m\n\u001b[0;32m      1\u001b[0m \u001b[38;5;28;01mfor\u001b[39;00m x \u001b[38;5;129;01min\u001b[39;00m data[\u001b[38;5;241m48\u001b[39m:]:\n\u001b[1;32m----> 2\u001b[0m     get_detail\u001b[38;5;241m.\u001b[39mappend(\u001b[43mget_details\u001b[49m\u001b[43m(\u001b[49m\u001b[43mx\u001b[49m\u001b[43m[\u001b[49m\u001b[38;5;124;43m'\u001b[39;49m\u001b[38;5;124;43murl\u001b[39;49m\u001b[38;5;124;43m'\u001b[39;49m\u001b[43m]\u001b[49m\u001b[43m)\u001b[49m)\n",
      "Cell \u001b[1;32mIn[16], line 5\u001b[0m, in \u001b[0;36mget_details\u001b[1;34m(link)\u001b[0m\n\u001b[0;32m      3\u001b[0m driver\u001b[38;5;241m.\u001b[39mget(link)\n\u001b[0;32m      4\u001b[0m title \u001b[38;5;241m=\u001b[39m driver\u001b[38;5;241m.\u001b[39mfind_element(by\u001b[38;5;241m=\u001b[39mBy\u001b[38;5;241m.\u001b[39mID,value\u001b[38;5;241m=\u001b[39m\u001b[38;5;124m\"\u001b[39m\u001b[38;5;124mproductTitle\u001b[39m\u001b[38;5;124m\"\u001b[39m)\u001b[38;5;241m.\u001b[39mtext\n\u001b[1;32m----> 5\u001b[0m img \u001b[38;5;241m=\u001b[39m \u001b[43mdriver\u001b[49m\u001b[38;5;241;43m.\u001b[39;49m\u001b[43mfind_element\u001b[49m\u001b[43m(\u001b[49m\u001b[43mby\u001b[49m\u001b[38;5;241;43m=\u001b[39;49m\u001b[43mBy\u001b[49m\u001b[38;5;241;43m.\u001b[39;49m\u001b[43mCLASS_NAME\u001b[49m\u001b[43m,\u001b[49m\u001b[43mvalue\u001b[49m\u001b[38;5;241;43m=\u001b[39;49m\u001b[38;5;124;43m\"\u001b[39;49m\u001b[38;5;124;43ma-stretch-vertical\u001b[39;49m\u001b[38;5;124;43m\"\u001b[39;49m\u001b[43m)\u001b[49m\u001b[38;5;241m.\u001b[39mget_attribute(\u001b[38;5;124m\"\u001b[39m\u001b[38;5;124msrc\u001b[39m\u001b[38;5;124m\"\u001b[39m)\n\u001b[0;32m      6\u001b[0m cost \u001b[38;5;241m=\u001b[39m driver\u001b[38;5;241m.\u001b[39mfind_element(by\u001b[38;5;241m=\u001b[39mBy\u001b[38;5;241m.\u001b[39mCLASS_NAME,value\u001b[38;5;241m=\u001b[39m\u001b[38;5;124m\"\u001b[39m\u001b[38;5;124mpriceToPay\u001b[39m\u001b[38;5;124m\"\u001b[39m)\u001b[38;5;241m.\u001b[39mtext\n\u001b[0;32m      7\u001b[0m WebDriverWait(driver,\u001b[38;5;241m5\u001b[39m)\u001b[38;5;241m.\u001b[39muntil(\n\u001b[0;32m      8\u001b[0m     EC\u001b[38;5;241m.\u001b[39mpresence_of_all_elements_located((By\u001b[38;5;241m.\u001b[39mCLASS_NAME,\u001b[38;5;124m\"\u001b[39m\u001b[38;5;124ma-stretch-vertical\u001b[39m\u001b[38;5;124m\"\u001b[39m))\n\u001b[0;32m      9\u001b[0m )\n",
      "File \u001b[1;32md:\\karthik\\python\\AmazonScraper\\.venv\\Lib\\site-packages\\selenium\\webdriver\\remote\\webdriver.py:748\u001b[0m, in \u001b[0;36mWebDriver.find_element\u001b[1;34m(self, by, value)\u001b[0m\n\u001b[0;32m    745\u001b[0m     by \u001b[38;5;241m=\u001b[39m By\u001b[38;5;241m.\u001b[39mCSS_SELECTOR\n\u001b[0;32m    746\u001b[0m     value \u001b[38;5;241m=\u001b[39m \u001b[38;5;124mf\u001b[39m\u001b[38;5;124m'\u001b[39m\u001b[38;5;124m[name=\u001b[39m\u001b[38;5;124m\"\u001b[39m\u001b[38;5;132;01m{\u001b[39;00mvalue\u001b[38;5;132;01m}\u001b[39;00m\u001b[38;5;124m\"\u001b[39m\u001b[38;5;124m]\u001b[39m\u001b[38;5;124m'\u001b[39m\n\u001b[1;32m--> 748\u001b[0m \u001b[38;5;28;01mreturn\u001b[39;00m \u001b[38;5;28;43mself\u001b[39;49m\u001b[38;5;241;43m.\u001b[39;49m\u001b[43mexecute\u001b[49m\u001b[43m(\u001b[49m\u001b[43mCommand\u001b[49m\u001b[38;5;241;43m.\u001b[39;49m\u001b[43mFIND_ELEMENT\u001b[49m\u001b[43m,\u001b[49m\u001b[43m \u001b[49m\u001b[43m{\u001b[49m\u001b[38;5;124;43m\"\u001b[39;49m\u001b[38;5;124;43musing\u001b[39;49m\u001b[38;5;124;43m\"\u001b[39;49m\u001b[43m:\u001b[49m\u001b[43m \u001b[49m\u001b[43mby\u001b[49m\u001b[43m,\u001b[49m\u001b[43m \u001b[49m\u001b[38;5;124;43m\"\u001b[39;49m\u001b[38;5;124;43mvalue\u001b[39;49m\u001b[38;5;124;43m\"\u001b[39;49m\u001b[43m:\u001b[49m\u001b[43m \u001b[49m\u001b[43mvalue\u001b[49m\u001b[43m}\u001b[49m\u001b[43m)\u001b[49m[\u001b[38;5;124m\"\u001b[39m\u001b[38;5;124mvalue\u001b[39m\u001b[38;5;124m\"\u001b[39m]\n",
      "File \u001b[1;32md:\\karthik\\python\\AmazonScraper\\.venv\\Lib\\site-packages\\selenium\\webdriver\\remote\\webdriver.py:354\u001b[0m, in \u001b[0;36mWebDriver.execute\u001b[1;34m(self, driver_command, params)\u001b[0m\n\u001b[0;32m    352\u001b[0m response \u001b[38;5;241m=\u001b[39m \u001b[38;5;28mself\u001b[39m\u001b[38;5;241m.\u001b[39mcommand_executor\u001b[38;5;241m.\u001b[39mexecute(driver_command, params)\n\u001b[0;32m    353\u001b[0m \u001b[38;5;28;01mif\u001b[39;00m response:\n\u001b[1;32m--> 354\u001b[0m     \u001b[38;5;28;43mself\u001b[39;49m\u001b[38;5;241;43m.\u001b[39;49m\u001b[43merror_handler\u001b[49m\u001b[38;5;241;43m.\u001b[39;49m\u001b[43mcheck_response\u001b[49m\u001b[43m(\u001b[49m\u001b[43mresponse\u001b[49m\u001b[43m)\u001b[49m\n\u001b[0;32m    355\u001b[0m     response[\u001b[38;5;124m\"\u001b[39m\u001b[38;5;124mvalue\u001b[39m\u001b[38;5;124m\"\u001b[39m] \u001b[38;5;241m=\u001b[39m \u001b[38;5;28mself\u001b[39m\u001b[38;5;241m.\u001b[39m_unwrap_value(response\u001b[38;5;241m.\u001b[39mget(\u001b[38;5;124m\"\u001b[39m\u001b[38;5;124mvalue\u001b[39m\u001b[38;5;124m\"\u001b[39m, \u001b[38;5;28;01mNone\u001b[39;00m))\n\u001b[0;32m    356\u001b[0m     \u001b[38;5;28;01mreturn\u001b[39;00m response\n",
      "File \u001b[1;32md:\\karthik\\python\\AmazonScraper\\.venv\\Lib\\site-packages\\selenium\\webdriver\\remote\\errorhandler.py:229\u001b[0m, in \u001b[0;36mErrorHandler.check_response\u001b[1;34m(self, response)\u001b[0m\n\u001b[0;32m    227\u001b[0m         alert_text \u001b[38;5;241m=\u001b[39m value[\u001b[38;5;124m\"\u001b[39m\u001b[38;5;124malert\u001b[39m\u001b[38;5;124m\"\u001b[39m]\u001b[38;5;241m.\u001b[39mget(\u001b[38;5;124m\"\u001b[39m\u001b[38;5;124mtext\u001b[39m\u001b[38;5;124m\"\u001b[39m)\n\u001b[0;32m    228\u001b[0m     \u001b[38;5;28;01mraise\u001b[39;00m exception_class(message, screen, stacktrace, alert_text)  \u001b[38;5;66;03m# type: ignore[call-arg]  # mypy is not smart enough here\u001b[39;00m\n\u001b[1;32m--> 229\u001b[0m \u001b[38;5;28;01mraise\u001b[39;00m exception_class(message, screen, stacktrace)\n",
      "\u001b[1;31mNoSuchElementException\u001b[0m: Message: no such element: Unable to locate element: {\"method\":\"css selector\",\"selector\":\".a-stretch-vertical\"}\n  (Session info: chrome=128.0.6613.85); For documentation on this error, please visit: https://www.selenium.dev/documentation/webdriver/troubleshooting/errors#no-such-element-exception\nStacktrace:\n\tGetHandleVerifier [0x00007FF637ACB632+29090]\n\t(No symbol) [0x00007FF637A3E6E9]\n\t(No symbol) [0x00007FF6378FB1CA]\n\t(No symbol) [0x00007FF63794EFD7]\n\t(No symbol) [0x00007FF63794F22C]\n\t(No symbol) [0x00007FF6379997F7]\n\t(No symbol) [0x00007FF63797672F]\n\t(No symbol) [0x00007FF6379965D9]\n\t(No symbol) [0x00007FF637976493]\n\t(No symbol) [0x00007FF6379409B1]\n\t(No symbol) [0x00007FF637941B11]\n\tGetHandleVerifier [0x00007FF637DE881D+3294093]\n\tGetHandleVerifier [0x00007FF637E34403+3604339]\n\tGetHandleVerifier [0x00007FF637E2A2C7+3563063]\n\tGetHandleVerifier [0x00007FF637B86F16+797318]\n\t(No symbol) [0x00007FF637A4986F]\n\t(No symbol) [0x00007FF637A45454]\n\t(No symbol) [0x00007FF637A455E0]\n\t(No symbol) [0x00007FF637A34A7F]\n\tBaseThreadInitThunk [0x00007FF95EF97374+20]\n\tRtlUserThreadStart [0x00007FF96005CC91+33]\n"
     ]
    }
   ],
   "source": [
    "\n",
    "for x in data[48:]:\n",
    "    get_detail.append(get_details(x['url']))"
   ]
  },
  {
   "cell_type": "code",
   "execution_count": 30,
   "metadata": {},
   "outputs": [],
   "source": [
    "out = open('main_data.json','w')\n",
    "json.dump(get_detail,out,indent=6)\n",
    "out.close()"
   ]
  },
  {
   "cell_type": "code",
   "execution_count": 32,
   "metadata": {},
   "outputs": [],
   "source": [
    "driver.quit()"
   ]
  },
  {
   "cell_type": "code",
   "execution_count": 31,
   "metadata": {},
   "outputs": [
    {
     "data": {
      "text/plain": [
       "33"
      ]
     },
     "execution_count": 31,
     "metadata": {},
     "output_type": "execute_result"
    }
   ],
   "source": [
    "len(get_detail)"
   ]
  },
  {
   "cell_type": "code",
   "execution_count": null,
   "metadata": {},
   "outputs": [],
   "source": []
  }
 ],
 "metadata": {
  "kernelspec": {
   "display_name": ".venv",
   "language": "python",
   "name": "python3"
  },
  "language_info": {
   "codemirror_mode": {
    "name": "ipython",
    "version": 3
   },
   "file_extension": ".py",
   "mimetype": "text/x-python",
   "name": "python",
   "nbconvert_exporter": "python",
   "pygments_lexer": "ipython3",
   "version": "3.11.7"
  }
 },
 "nbformat": 4,
 "nbformat_minor": 2
}
