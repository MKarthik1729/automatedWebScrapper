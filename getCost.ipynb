{
 "cells": [
  {
   "cell_type": "code",
   "execution_count": 15,
   "metadata": {},
   "outputs": [],
   "source": [
    "import os\n",
    "import subprocess\n",
    "from subprocess import PIPE\n",
    "from selenium import webdriver\n",
    "from selenium.webdriver.chrome.service import Service\n",
    "from selenium.webdriver.common.by import By\n",
    "from selenium.webdriver.common.keys import Keys\n",
    "from selenium.webdriver.support.ui import WebDriverWait\n",
    "from selenium.webdriver.support import expected_conditions as EC\n",
    "import time\n",
    "import requests"
   ]
  },
  {
   "cell_type": "code",
   "execution_count": 16,
   "metadata": {},
   "outputs": [],
   "source": [
    "import json\n",
    "from datetime import datetime\n"
   ]
  },
  {
   "cell_type": "code",
   "execution_count": 17,
   "metadata": {},
   "outputs": [],
   "source": [
    "driver = webdriver.Chrome()"
   ]
  },
  {
   "cell_type": "code",
   "execution_count": 9,
   "metadata": {},
   "outputs": [
    {
     "data": {
      "text/plain": [
       "40"
      ]
     },
     "execution_count": 9,
     "metadata": {},
     "output_type": "execute_result"
    }
   ],
   "source": [
    "data = json.load(open('main_data.json','r'))\n",
    "len(data)"
   ]
  },
  {
   "cell_type": "code",
   "execution_count": 18,
   "metadata": {},
   "outputs": [],
   "source": [
    "err = []\n",
    "def get_cost(link):     \n",
    "    try:\n",
    "        driver.get(link)\n",
    "        cost = driver.find_element(by=By.CLASS_NAME,value=\"priceToPay\").text\n",
    "        WebDriverWait(driver,5).until(\n",
    "            EC.presence_of_all_elements_located((By.CLASS_NAME,\"priceToPay\"))\n",
    "        )\n",
    "        return {\n",
    "                \"date\":datetime.today().strftime('%d-%m-%Y'),\n",
    "                \"price\":cost[1:]\n",
    "            }\n",
    "        \n",
    "    except:\n",
    "        err.append((link))\n",
    "        return None"
   ]
  },
  {
   "cell_type": "code",
   "execution_count": 19,
   "metadata": {},
   "outputs": [],
   "source": [
    "\n",
    "data[0]['daily-prices'].append(get_cost(data[0]['link']))"
   ]
  },
  {
   "cell_type": "code",
   "execution_count": 20,
   "metadata": {},
   "outputs": [
    {
     "data": {
      "text/plain": [
       "{'link': 'https://www.amazon.in/sspa/click?ie=UTF8&spc=MTo2ODEwMDY3Njk2MzY3MzEwOjE3MjQ4Mzg2MjI6c3BfYXRmOjMwMDE1MzkwMDQ2NzYzMjo6MDo6&url=%2FARTTDINOX-Stainless-nonstick-Rivetless-Induction%2Fdp%2FB0CVXQ4BGT%2Fref%3Dsr_1_1_sspa%3Fdib%3DeyJ2IjoiMSJ9.IXypzwOyXIc4A8VmoYwI4q9ZNOZ0bL2Svn414RuayaoCqr7croYgBEXx0KfXnLslJbx8NlAQeuXrMOufhpg_lO8VLgLs11GVZVTNeEmfNUfPfERYdvSMwtxOo9votYGOJpFWYc-NbRFfhu352Lh0xWys0HUWhPl5DKRUnHVeOGngpwk0y47eF-ejnxoOxUBhsnd4vte88zdVZibXsqnWM0iPl6V4gF7X3Go8hLua4BWxkrNjKn0odQpfaLDifxQsAsSnZ16I1zHsRo0YhKaI8Js8lraZoU6OSYJ8H5xiRzk.is7uyAYelJ1cF1zLVFAhBpMswAUk1m5rOfYh7wvNWUI%26dib_tag%3Dse%26keywords%3Dutensils%26qid%3D1724838622%26sr%3D8-1-spons%26sp_csd%3Dd2lkZ2V0TmFtZT1zcF9hdGY%26psc%3D1',\n",
       " 'title': 'ARTTDINOX Stellar Stainless Steel Triply Non Stick Tawa | 28 cm | Etched nonstick | Rivetless Double Wired Handle | Gas & Induction Base | 7 Yrs Warranty | Jindal Stainless',\n",
       " 'img': 'https://m.media-amazon.com/images/I/417X0AedP-L._SX569_.jpg',\n",
       " 'price': '4,050',\n",
       " 'type': 'utensils',\n",
       " 'daily-prices': [{'date': '29-08-2024', 'price': '4,050'},\n",
       "  None,\n",
       "  {'date': '29-08-2024', 'price': '3,999'}]}"
      ]
     },
     "execution_count": 20,
     "metadata": {},
     "output_type": "execute_result"
    }
   ],
   "source": [
    "data[0]"
   ]
  },
  {
   "cell_type": "code",
   "execution_count": null,
   "metadata": {},
   "outputs": [],
   "source": []
  }
 ],
 "metadata": {
  "kernelspec": {
   "display_name": ".venv",
   "language": "python",
   "name": "python3"
  },
  "language_info": {
   "codemirror_mode": {
    "name": "ipython",
    "version": 3
   },
   "file_extension": ".py",
   "mimetype": "text/x-python",
   "name": "python",
   "nbconvert_exporter": "python",
   "pygments_lexer": "ipython3",
   "version": "3.11.7"
  }
 },
 "nbformat": 4,
 "nbformat_minor": 2
}
